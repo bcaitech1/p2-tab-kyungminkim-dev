{
 "cells": [
  {
   "cell_type": "code",
   "execution_count": 13,
   "id": "523c1896",
   "metadata": {},
   "outputs": [],
   "source": [
    "import numpy as np\n",
    "import pandas as pd\n",
    "import os"
   ]
  },
  {
   "cell_type": "code",
   "execution_count": 14,
   "id": "655867de",
   "metadata": {},
   "outputs": [],
   "source": [
    "def get_submission_df(predictions):\n",
    "    sub = pd.read_csv('input' + '/sample_submission.csv')\n",
    "    sub['probability'] = predictions\n",
    "    sub.to_csv(os.path.join('../output', \"sub19.csv\"), index=False)"
   ]
  },
  {
   "cell_type": "code",
   "execution_count": 15,
   "id": "f90626b1",
   "metadata": {},
   "outputs": [],
   "source": [
    "def ensemble_predictions_files(files):\n",
    "    ensemble_prediction = np.zeros(5914)\n",
    "    for f in files:\n",
    "        _s = pd.read_csv('../output/'+f)\n",
    "        ensemble_prediction += _s['probability']\n",
    "    ensemble_prediction /= len(files)\n",
    "    return get_submission_df(ensemble_prediction)"
   ]
  },
  {
   "cell_type": "code",
   "execution_count": 16,
   "id": "62b80f5d",
   "metadata": {},
   "outputs": [],
   "source": [
    "ensemble_predictions_files([\"sub9.csv\", \"sub17.csv\"])"
   ]
  },
  {
   "cell_type": "code",
   "execution_count": null,
   "id": "399ca472",
   "metadata": {},
   "outputs": [],
   "source": []
  }
 ],
 "metadata": {
  "kernelspec": {
   "display_name": "Python 3",
   "language": "python",
   "name": "python3"
  },
  "language_info": {
   "codemirror_mode": {
    "name": "ipython",
    "version": 3
   },
   "file_extension": ".py",
   "mimetype": "text/x-python",
   "name": "python",
   "nbconvert_exporter": "python",
   "pygments_lexer": "ipython3",
   "version": "3.7.7"
  }
 },
 "nbformat": 4,
 "nbformat_minor": 5
}
